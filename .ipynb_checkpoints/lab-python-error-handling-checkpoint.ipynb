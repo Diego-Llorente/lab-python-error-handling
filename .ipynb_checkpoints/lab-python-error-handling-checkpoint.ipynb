{
 "cells": [
  {
   "cell_type": "markdown",
   "id": "25d7736c-ba17-4aff-b6bb-66eba20fbf4e",
   "metadata": {},
   "source": [
    "# Lab | Error Handling"
   ]
  },
  {
   "cell_type": "markdown",
   "id": "bc99b386-7508-47a0-bcdb-d969deaf6c8b",
   "metadata": {},
   "source": [
    "## Exercise: Error Handling for Managing Customer Orders\n",
    "\n",
    "The implementation of your code for managing customer orders assumes that the user will always enter a valid input. \n",
    "\n",
    "For example, we could modify the `initialize_inventory` function to include error handling.\n",
    "   - If the user enters an invalid quantity (e.g., a negative value or a non-numeric value), display an error message and ask them to re-enter the quantity for that product.\n",
    "   - Use a try-except block to handle the error and continue prompting the user until a valid quantity is entered.\n",
    "\n",
    "```python\n",
    "# Step 1: Define the function for initializing the inventory with error handling\n",
    "def initialize_inventory(products):\n",
    "    inventory = {}\n",
    "    for product in products:\n",
    "        valid_quantity = False\n",
    "        while not valid_quantity:\n",
    "            try:\n",
    "                quantity = int(input(f\"Enter the quantity of {product}s available: \"))\n",
    "                if quantity < 0:\n",
    "                    raise ValueError(\"Invalid quantity! Please enter a non-negative value.\")\n",
    "                valid_quantity = True\n",
    "            except ValueError as error:\n",
    "                print(f\"Error: {error}\")\n",
    "        inventory[product] = quantity\n",
    "    return inventory\n",
    "\n",
    "# Or, in another way:\n",
    "\n",
    "def initialize_inventory(products):\n",
    "    inventory = {}\n",
    "    for product in products:\n",
    "        valid_input = False\n",
    "        while not valid_input:\n",
    "            try:\n",
    "                quantity = int(input(f\"Enter the quantity of {product}s available: \"))\n",
    "                if quantity >= 0:\n",
    "                    inventory[product] = quantity\n",
    "                    valid_input = True\n",
    "                else:\n",
    "                    print(\"Quantity cannot be negative. Please enter a valid quantity.\")\n",
    "            except ValueError:\n",
    "                print(\"Invalid input. Please enter a valid quantity.\")\n",
    "    return inventory\n",
    "```\n",
    "\n",
    "Let's enhance your code by implementing error handling to handle invalid inputs.\n",
    "\n",
    "Follow the steps below to complete the exercise:\n",
    "\n",
    "2. Modify the `calculate_total_price` function to include error handling.\n",
    "   - If the user enters an invalid price (e.g., a negative value or a non-numeric value), display an error message and ask them to re-enter the price for that product.\n",
    "   - Use a try-except block to handle the error and continue prompting the user until a valid price is entered.\n",
    "\n",
    "3. Modify the `get_customer_orders` function to include error handling.\n",
    "   - If the user enters an invalid number of orders (e.g., a negative value or a non-numeric value), display an error message and ask them to re-enter the number of orders.\n",
    "   - If the user enters an invalid product name (e.g., a product name that is not in the inventory), or that doesn't have stock available, display an error message and ask them to re-enter the product name. *Hint: you will need to pass inventory as a parameter*\n",
    "   - Use a try-except block to handle the error and continue prompting the user until a valid product name is entered.\n",
    "\n",
    "4. Test your code by running the program and deliberately entering invalid quantities and product names. Make sure the error handling mechanism works as expected.\n"
   ]
  },
  {
   "cell_type": "code",
   "execution_count": 1,
   "id": "84a89cf4",
   "metadata": {},
   "outputs": [],
   "source": [
    "#def initialize_inventory(products):\n",
    "#    inventory = {}\n",
    "#    for product in products:\n",
    "#        quantity = int(input(f\"Please enter the available quantity of {product}: \"))\n",
    "#        inventory[product] = quantity\n",
    "#      \n",
    "#        \n",
    "#    return inventory\n",
    "\n",
    "\n",
    "def initialize_inventory(products):\n",
    "    inventory = {}\n",
    "    for product in products:\n",
    "        valid_input = False\n",
    "        while not valid_input:\n",
    "            try:\n",
    "                quantity = int(input(f\"Please enter the available quantity of {product}: \"))\n",
    "                if quantity >= 0: \n",
    "                    inventory[product] = quantity\n",
    "                    valid_input = True\n",
    "                else:\n",
    "                    print(\"Quantity cannot be negative. Please enter a valid quantity.\")\n",
    "            except ValueError:\n",
    "                print(\"Invalid input. Please enter a valid quantity.\")\n",
    "        \n",
    "    return inventory\n"
   ]
  },
  {
   "cell_type": "code",
   "execution_count": 2,
   "id": "3d329217",
   "metadata": {},
   "outputs": [
    {
     "name": "stdout",
     "output_type": "stream",
     "text": [
      "Please enter the available quantity of t-shirt: grqwgqr\n",
      "Invalid input. Please enter a valid quantity.\n",
      "Please enter the available quantity of t-shirt: -999\n",
      "Quantity cannot be negative. Please enter a valid quantity.\n",
      "Please enter the available quantity of t-shirt: 10\n",
      "Please enter the available quantity of mug: 9\n",
      "Please enter the available quantity of hat: 8\n",
      "Please enter the available quantity of book: 7\n",
      "Please enter the available quantity of keychain: 6\n"
     ]
    }
   ],
   "source": [
    "initial_inventory = initialize_inventory(products = [\"t-shirt\", \"mug\", \"hat\", \"book\", \"keychain\"])"
   ]
  },
  {
   "cell_type": "code",
   "execution_count": 3,
   "id": "c83f9f95",
   "metadata": {},
   "outputs": [
    {
     "data": {
      "text/plain": [
       "{'t-shirt': 10, 'mug': 9, 'hat': 8, 'book': 7, 'keychain': 6}"
      ]
     },
     "execution_count": 3,
     "metadata": {},
     "output_type": "execute_result"
    }
   ],
   "source": [
    "initial_inventory"
   ]
  },
  {
   "cell_type": "code",
   "execution_count": 4,
   "id": "b6beac14",
   "metadata": {},
   "outputs": [],
   "source": [
    "#Exercise 3\n",
    "\n",
    "#Modify the get_customer_orders function to include error handling.\n",
    "\n",
    "#If the user enters an invalid number of orders (e.g., a negative value or a non-numeric value), \n",
    "#display an error message and ask them to re-enter the number of orders.\n",
    "\n",
    "#If the user enters an invalid product name (e.g., a product name that is not in the inventory), \n",
    "#or that doesn't have stock available, display an error message and ask them to re-enter the product name. \n",
    "#Hint: you will need to pass inventory as a parameter\n",
    "\n",
    "#Use a try-except block to handle the error and continue prompting the user until a valid product name is entered.\n",
    "\n",
    "\n",
    "\n",
    "\n",
    "def get_customer_orders(inventory):\n",
    "\n",
    "    valid_order_num = False\n",
    "    while not valid_order_num:\n",
    "        try:\n",
    "            order_num = int(input(\"Please enter the number of orders you want to do: \"))\n",
    "            if order_num > 0:\n",
    "                valid_order_num = True\n",
    "            else:\n",
    "                print(\"Number of orders must be positive.\")\n",
    "                \n",
    "        except:\n",
    "            print(\"Error. Please enter a valid input\")\n",
    "    \n",
    "    \n",
    "    #valid_order_name = False\n",
    "    customer_orders = []\n",
    "    \n",
    "    for new_order in range(order_num):\n",
    "        valid_order_name = False\n",
    "        while not valid_order_name:\n",
    "            try:\n",
    "                order_req = input(\"Please enter the product you want to order: \")\n",
    "                if order_req in inventory:\n",
    "                    if order_req in customer_orders:\n",
    "                        print(\"You have already ordered that item.\")\n",
    "                    else:\n",
    "                        customer_orders.append(order_req)\n",
    "                        valid_order_name = True\n",
    "                else:\n",
    "                    print(\"Item not in inventory.\")\n",
    "                \n",
    "            except:\n",
    "                print(\"Error. Please re-enter the number of orders: \")     \n",
    "           \n",
    "    return customer_orders\n",
    "\n",
    "\n",
    "\n"
   ]
  },
  {
   "cell_type": "code",
   "execution_count": 5,
   "id": "e5bc852f",
   "metadata": {},
   "outputs": [
    {
     "name": "stdout",
     "output_type": "stream",
     "text": [
      "Please enter the number of orders you want to do: rgeqgrgweqgeqrg\n",
      "Error. Please enter a valid input\n",
      "Please enter the number of orders you want to do: 0\n",
      "Number of orders must be positive.\n",
      "Please enter the number of orders you want to do: -99\n",
      "Number of orders must be positive.\n",
      "Please enter the number of orders you want to do: 2\n",
      "Please enter the product you want to order: eargqwr\n",
      "Item not in inventory.\n",
      "Please enter the product you want to order: -5555\n",
      "Item not in inventory.\n",
      "Please enter the product you want to order: /*/\n",
      "Item not in inventory.\n",
      "Please enter the product you want to order: hat\n",
      "Please enter the product you want to order: book\n"
     ]
    }
   ],
   "source": [
    "items_ordered = get_customer_orders(initial_inventory)"
   ]
  },
  {
   "cell_type": "code",
   "execution_count": 6,
   "id": "a2d9f671",
   "metadata": {},
   "outputs": [
    {
     "data": {
      "text/plain": [
       "['hat', 'book']"
      ]
     },
     "execution_count": 6,
     "metadata": {},
     "output_type": "execute_result"
    }
   ],
   "source": [
    "items_ordered"
   ]
  },
  {
   "cell_type": "code",
   "execution_count": 7,
   "id": "f7a11980",
   "metadata": {},
   "outputs": [],
   "source": [
    "def update_inventory(customer_orders, inventory):\n",
    "\n",
    "    inventory = {product: inventory[product] - 1 if product in customer_orders else inventory[product] for product in inventory}\n",
    "    clear_inventory = {product: quantity for product, quantity in inventory.items() if quantity > 0}    \n",
    "    \n",
    "   \n",
    "    return clear_inventory"
   ]
  },
  {
   "cell_type": "code",
   "execution_count": 8,
   "id": "e79916d7",
   "metadata": {},
   "outputs": [],
   "source": [
    "updated_inventory = update_inventory(items_ordered, initial_inventory)"
   ]
  },
  {
   "cell_type": "code",
   "execution_count": 9,
   "id": "2c52b18a",
   "metadata": {},
   "outputs": [
    {
     "data": {
      "text/plain": [
       "{'t-shirt': 10, 'mug': 9, 'hat': 7, 'book': 6, 'keychain': 6}"
      ]
     },
     "execution_count": 9,
     "metadata": {},
     "output_type": "execute_result"
    }
   ],
   "source": [
    "updated_inventory"
   ]
  },
  {
   "cell_type": "code",
   "execution_count": 10,
   "id": "fc8cd411",
   "metadata": {},
   "outputs": [],
   "source": [
    "def calculate_order_statistics(customer_orders, products):\n",
    "    total_products_ordered = len(customer_orders)\n",
    "    percentage_ordered = (total_products_ordered/len(products))*100\n",
    "    order_status = (total_products_ordered, percentage_ordered)\n",
    "    \n",
    "    return [total_products_ordered, percentage_ordered] "
   ]
  },
  {
   "cell_type": "code",
   "execution_count": 11,
   "id": "5c5c1037",
   "metadata": {},
   "outputs": [
    {
     "data": {
      "text/plain": [
       "[2, 40.0]"
      ]
     },
     "execution_count": 11,
     "metadata": {},
     "output_type": "execute_result"
    }
   ],
   "source": [
    "calculate_order_statistics(items_ordered, initial_inventory.keys())"
   ]
  },
  {
   "cell_type": "code",
   "execution_count": 12,
   "id": "3454acc6",
   "metadata": {},
   "outputs": [],
   "source": [
    "statistics = calculate_order_statistics(items_ordered, initial_inventory.keys())"
   ]
  },
  {
   "cell_type": "code",
   "execution_count": 13,
   "id": "f5dc5377",
   "metadata": {},
   "outputs": [],
   "source": [
    "def print_order_statistics(order_statistics):\n",
    "    count = 1\n",
    "    for stat in order_statistics:\n",
    "        if count == 1:\n",
    "            print(f\"The total number of products ordered is: {stat}.\")\n",
    "            count += 1\n",
    "        else:\n",
    "            print(f\"The percentage or ordered products is: {stat}%.\")"
   ]
  },
  {
   "cell_type": "code",
   "execution_count": 14,
   "id": "6599fe8b",
   "metadata": {},
   "outputs": [
    {
     "name": "stdout",
     "output_type": "stream",
     "text": [
      "The total number of products ordered is: 2.\n",
      "The percentage or ordered products is: 40.0%.\n"
     ]
    }
   ],
   "source": [
    "print_order_statistics(statistics)"
   ]
  },
  {
   "cell_type": "code",
   "execution_count": 15,
   "id": "65d264bb",
   "metadata": {},
   "outputs": [],
   "source": [
    "def print_updated_inventory(inventory):\n",
    "    \n",
    "    printed_inventory = {f\"The product {product} has a stock of: {quantity}\" for product, quantity in inventory.items()}\n",
    "    \n",
    "    return printed_inventory"
   ]
  },
  {
   "cell_type": "code",
   "execution_count": 16,
   "id": "26af0dd5",
   "metadata": {},
   "outputs": [
    {
     "data": {
      "text/plain": [
       "{'The product book has a stock of: 6',\n",
       " 'The product hat has a stock of: 7',\n",
       " 'The product keychain has a stock of: 6',\n",
       " 'The product mug has a stock of: 9',\n",
       " 'The product t-shirt has a stock of: 10'}"
      ]
     },
     "execution_count": 16,
     "metadata": {},
     "output_type": "execute_result"
    }
   ],
   "source": [
    "print_updated_inventory(updated_inventory)"
   ]
  },
  {
   "cell_type": "code",
   "execution_count": 17,
   "id": "fd8eccdb",
   "metadata": {},
   "outputs": [],
   "source": [
    "#Exercise 2\n",
    "#Modify the calculate_total_price function to include error handling.\n",
    "\n",
    "#If the user enters an invalid price (e.g., a negative value or a non-numeric value), \n",
    "#display an error message and ask them to re-enter the price for that product.\n",
    "#Use a try-except block to handle the error and continue prompting the user until a valid price is entered.\n",
    "\n",
    "def price_order(customer_order):\n",
    "    prices = {}\n",
    "    for order in customer_order:\n",
    "        valid_input = False\n",
    "        while not valid_input:\n",
    "            try:\n",
    "                item_price = int(input(f\"Enter the price of the {order}: \"))\n",
    "                if item_price >= 0:\n",
    "                    prices[order] = item_price\n",
    "                    valid_input = True\n",
    "                else:\n",
    "                    print(\"The price must be a positive number.\")\n",
    "            except ValueError:\n",
    "                print(\"The input must be a number.\")\n",
    "    \n",
    "    total_prices = float(sum(prices.values()))\n",
    "    \n",
    "    return total_prices"
   ]
  },
  {
   "cell_type": "code",
   "execution_count": 18,
   "id": "2baeacae",
   "metadata": {},
   "outputs": [
    {
     "name": "stdout",
     "output_type": "stream",
     "text": [
      "Enter the price of the hat: wefwfewe\n",
      "The input must be a number.\n",
      "Enter the price of the hat: -3653145\n",
      "The price must be a positive number.\n",
      "Enter the price of the hat: 32\n",
      "Enter the price of the book: 21\n"
     ]
    }
   ],
   "source": [
    "total_order_price = price_order(items_ordered)"
   ]
  },
  {
   "cell_type": "code",
   "execution_count": 19,
   "id": "316f6c4d",
   "metadata": {},
   "outputs": [
    {
     "name": "stdout",
     "output_type": "stream",
     "text": [
      "53.0\n"
     ]
    }
   ],
   "source": [
    "print(total_order_price)"
   ]
  },
  {
   "cell_type": "code",
   "execution_count": null,
   "id": "a0dc57e8",
   "metadata": {},
   "outputs": [],
   "source": []
  }
 ],
 "metadata": {
  "kernelspec": {
   "display_name": "Python 3 (ipykernel)",
   "language": "python",
   "name": "python3"
  },
  "language_info": {
   "codemirror_mode": {
    "name": "ipython",
    "version": 3
   },
   "file_extension": ".py",
   "mimetype": "text/x-python",
   "name": "python",
   "nbconvert_exporter": "python",
   "pygments_lexer": "ipython3",
   "version": "3.11.7"
  }
 },
 "nbformat": 4,
 "nbformat_minor": 5
}
